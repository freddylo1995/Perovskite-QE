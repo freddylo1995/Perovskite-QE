{
 "cells": [
  {
   "cell_type": "code",
   "execution_count": 58,
   "metadata": {},
   "outputs": [],
   "source": [
    "import ase\n",
    "from ase import Atoms\n",
    "from ase.data import atomic_numbers, atomic_names, atomic_masses, covalent_radii\n",
    "from ase.lattice.cubic import FaceCenteredCubic\n",
    "from ase.visualize import view\n",
    "from ase.io import write\n",
    "from ase.io import read\n",
    "import pandas as pd\n",
    "from ase.build import add_adsorbate\n",
    "import array\n",
    "import numpy as np"
   ]
  },
  {
   "cell_type": "code",
   "execution_count": 59,
   "metadata": {},
   "outputs": [
    {
     "data": {
      "text/plain": [
       "'/Users/freddylo/Desktop/Master_Thesis/Result/rep'"
      ]
     },
     "execution_count": 59,
     "metadata": {},
     "output_type": "execute_result"
    }
   ],
   "source": [
    "cd .."
   ]
  },
  {
   "cell_type": "code",
   "execution_count": 60,
   "metadata": {},
   "outputs": [],
   "source": [
    "NMO = read('NMO_L1.o')"
   ]
  },
  {
   "cell_type": "code",
   "execution_count": 62,
   "metadata": {},
   "outputs": [],
   "source": [
    "view(NMO)"
   ]
  },
  {
   "cell_type": "code",
   "execution_count": 56,
   "metadata": {
    "scrolled": true
   },
   "outputs": [],
   "source": [
    "df = pd.read_excel('Book3.xlsx',sheetname='Sheet1',header=None)\n",
    "df_matrix = df.drop([0],axis=1)\n",
    "a = NMO.get_positions()\n",
    "NMO.set_positions(df_matrix.values)"
   ]
  },
  {
   "cell_type": "code",
   "execution_count": 57,
   "metadata": {},
   "outputs": [],
   "source": [
    "view(NMO)"
   ]
  },
  {
   "cell_type": "raw",
   "metadata": {},
   "source": [
    "pwd"
   ]
  },
  {
   "cell_type": "code",
   "execution_count": 137,
   "metadata": {},
   "outputs": [],
   "source": [
    "cs = LaMnO3.get_chemical_symbols()\n",
    "cs[1]='Ni'\n",
    "LaMnO3.set_chemical_symbols(cs)"
   ]
  },
  {
   "cell_type": "code",
   "execution_count": 141,
   "metadata": {
    "collapsed": true
   },
   "outputs": [
    {
     "name": "stdout",
     "output_type": "stream",
     "text": [
      "           0         1          2\n",
      "0   0.009119  0.000000   0.519048\n",
      "1   1.973629  1.966550   2.050835\n",
      "2   1.974436  0.000000   2.065322\n",
      "3   1.970710  1.966407   0.176392\n",
      "4   0.007366  1.966405   2.065182\n",
      "5   0.007568  0.000000   4.163164\n",
      "6   1.971769  1.966558   5.939411\n",
      "7   1.973259  0.000000   5.892297\n",
      "8   1.972833  1.966407   4.006869\n",
      "9   0.007132  1.966333   5.892273\n",
      "10  0.007266  0.000000   7.959294\n",
      "11  1.973667  1.966528   9.745203\n",
      "12  1.972570  0.000000   9.666035\n",
      "13  1.973407  1.966359   7.819013\n",
      "14  0.008075  1.966367   9.666104\n",
      "15  0.023620  0.000000  11.911224\n",
      "16  1.993079  1.966400  13.520428\n",
      "17  1.987717  0.000000  13.462904\n",
      "18  1.975405  1.966397  11.599935\n",
      "19  0.019061  1.966386  13.463164\n",
      "20  0.009118  3.932893   0.519267\n",
      "21  1.973629  5.899235   2.050835\n",
      "22  1.974401  3.932893   2.065114\n",
      "23  1.970710  5.899379   0.176392\n",
      "24  0.007366  5.899380   2.065182\n",
      "25  0.007566  3.932893   4.163173\n",
      "26  1.971769  5.899228   5.939411\n",
      "27  1.973199  3.932893   5.892388\n",
      "28  1.972833  5.899379   4.006869\n",
      "29  0.007132  5.899453   5.892273\n",
      "..       ...       ...        ...\n",
      "50  3.940202  0.000000   7.959375\n",
      "51  5.906281  1.966546   9.745457\n",
      "52  5.905407  0.000000   9.666020\n",
      "53  5.906153  1.966355   7.819077\n",
      "54  3.941043  1.966360   9.666167\n",
      "55  3.956442  0.000000  11.911039\n",
      "56  5.925773  1.966418  13.520419\n",
      "57  5.920441  0.000000  13.462929\n",
      "58  5.908322  1.966401  11.599962\n",
      "59  3.952230  1.966396  13.463042\n",
      "60  3.942135  3.932893   0.519216\n",
      "61  5.906455  5.899216   2.050854\n",
      "62  5.907410  3.932893   2.065117\n",
      "63  5.903690  5.899372   0.176355\n",
      "64  3.940202  5.899414   2.065213\n",
      "65  3.940411  3.932893   4.163061\n",
      "66  5.904468  5.899220   5.939470\n",
      "67  5.906055  3.932893   5.892351\n",
      "68  5.905719  5.899376   4.006794\n",
      "69  3.939972  5.899513   5.892346\n",
      "70  3.940196  3.932893   7.959190\n",
      "71  5.906281  5.899239   9.745457\n",
      "72  5.905415  3.932893   9.666147\n",
      "73  5.906153  5.899431   7.819077\n",
      "74  3.941043  5.899425   9.666167\n",
      "75  3.956446  3.932893  11.910935\n",
      "76  5.925773  5.899368  13.520419\n",
      "77  5.920433  3.932893  13.462979\n",
      "78  5.908322  5.899384  11.599962\n",
      "79  3.952230  5.899389  13.463042\n",
      "\n",
      "[80 rows x 3 columns]\n"
     ]
    }
   ],
   "source": [
    "#Relax Position_change\n",
    "# Get original positions & Load output relax positions\n",
    "slab.get_positions(); \n",
    "df = pd.read_excel('QE_out.xlsx',sheet_name='LaNiO3',header=None) \n",
    "print(df)\n",
    "#convert pd.frame to list\n",
    "df_matrix = df.values # or df.as_matrix()\n",
    "\n",
    "#set new positions \n",
    "slab.set_positions(df_matrix)"
   ]
  },
  {
   "cell_type": "code",
   "execution_count": 142,
   "metadata": {},
   "outputs": [],
   "source": [
    "# Define new cell\n",
    "cell =slab.cell\n",
    "cell[2] = cell[2]+[0,0,15]\n",
    "slab.set_cell(cell)"
   ]
  },
  {
   "cell_type": "code",
   "execution_count": 145,
   "metadata": {},
   "outputs": [],
   "source": [
    "view(slab)"
   ]
  },
  {
   "cell_type": "code",
   "execution_count": 146,
   "metadata": {},
   "outputs": [],
   "source": [
    "LaMnO3_OOH = LaMnO3.repeat([2,2,4])"
   ]
  },
  {
   "cell_type": "code",
   "execution_count": 151,
   "metadata": {},
   "outputs": [
    {
     "data": {
      "text/plain": [
       "83"
      ]
     },
     "execution_count": 151,
     "metadata": {},
     "output_type": "execute_result"
    }
   ],
   "source": [
    "# Append new atoms(adsorbates)\n",
    "LaMnO3_OOH.append('O')\n",
    "LaMnO3_OOH.append('O')\n",
    "LaMnO3_OOH.append('H')\n",
    "LaMnO3_OOH.get_global_number_of_atoms()"
   ]
  },
  {
   "cell_type": "code",
   "execution_count": 3,
   "metadata": {},
   "outputs": [
    {
     "ename": "NameError",
     "evalue": "name 'slab' is not defined",
     "output_type": "error",
     "traceback": [
      "\u001b[0;31m---------------------------------------------------------------------------\u001b[0m",
      "\u001b[0;31mNameError\u001b[0m                                 Traceback (most recent call last)",
      "\u001b[0;32m<ipython-input-3-1b3733522e88>\u001b[0m in \u001b[0;36m<module>\u001b[0;34m\u001b[0m\n\u001b[1;32m      1\u001b[0m \u001b[0;31m#Get new position with undefined adsorbate\u001b[0m\u001b[0;34m\u001b[0m\u001b[0;34m\u001b[0m\u001b[0;34m\u001b[0m\u001b[0m\n\u001b[0;32m----> 2\u001b[0;31m \u001b[0mslab\u001b[0m\u001b[0;34m.\u001b[0m\u001b[0mget_positions\u001b[0m\u001b[0;34m(\u001b[0m\u001b[0;34m)\u001b[0m\u001b[0;34m;\u001b[0m\u001b[0;34m\u001b[0m\u001b[0;34m\u001b[0m\u001b[0m\n\u001b[0m\u001b[1;32m      3\u001b[0m \u001b[0;31m#Position_change\u001b[0m\u001b[0;34m\u001b[0m\u001b[0;34m\u001b[0m\u001b[0;34m\u001b[0m\u001b[0m\n\u001b[1;32m      4\u001b[0m \u001b[0;31m# Load output relax positions\u001b[0m\u001b[0;34m\u001b[0m\u001b[0;34m\u001b[0m\u001b[0;34m\u001b[0m\u001b[0m\n\u001b[1;32m      5\u001b[0m \u001b[0mdf\u001b[0m \u001b[0;34m=\u001b[0m \u001b[0mpd\u001b[0m\u001b[0;34m.\u001b[0m\u001b[0mread_excel\u001b[0m\u001b[0;34m(\u001b[0m\u001b[0;34m'QE_out.xlsx'\u001b[0m\u001b[0;34m,\u001b[0m\u001b[0msheet_name\u001b[0m\u001b[0;34m=\u001b[0m\u001b[0;34m'LaMn_OOH'\u001b[0m\u001b[0;34m,\u001b[0m\u001b[0mheader\u001b[0m\u001b[0;34m=\u001b[0m\u001b[0;32mNone\u001b[0m\u001b[0;34m)\u001b[0m\u001b[0;34m\u001b[0m\u001b[0;34m\u001b[0m\u001b[0m\n",
      "\u001b[0;31mNameError\u001b[0m: name 'slab' is not defined"
     ]
    }
   ],
   "source": [
    "#Get new position with undefined adsorbate \n",
    "slab.get_positions();\n",
    "#Position_change\n",
    "# Load output relax positions\n",
    "df = pd.read_excel('QE_out.xlsx',sheet_name='LaMn_OOH',header=None) \n",
    "#convert pd.frame to list\n",
    "df_matrix = df.values # or df.as_matrix()\n",
    "\n",
    "#set new positions \n",
    "LaMnO3_OOH.set_positions(df_matrix)"
   ]
  },
  {
   "cell_type": "code",
   "execution_count": 153,
   "metadata": {},
   "outputs": [],
   "source": [
    "view(LaMnO3_OOH)"
   ]
  },
  {
   "cell_type": "code",
   "execution_count": null,
   "metadata": {},
   "outputs": [],
   "source": [
    "view()"
   ]
  },
  {
   "cell_type": "code",
   "execution_count": 55,
   "metadata": {},
   "outputs": [],
   "source": [
    "write('test_slab.xyz',slab)"
   ]
  },
  {
   "cell_type": "code",
   "execution_count": 5,
   "metadata": {},
   "outputs": [],
   "source": [
    "# LaMnO3_OH\n",
    "\n",
    "LaMnO3 = read('Cubic_perovskites.xyz')\n",
    "slab_OH = LaMnO3.repeat([2,2,4])\n",
    "slab_OH.append('O')\n",
    "slab_OH.append('H')\n",
    "slab_p = slab_OH.get_positions()\n",
    "df = pd.read_excel('QE_out.xlsx',sheet_name='LaMno3_OH',header=None)\n",
    "#slab_OOH.set_positions(slab_p) \n",
    "df_d = df.drop([0],axis=1)\n",
    "df_matrix = df_d.values\n",
    "slab_OH.set_positions(df_matrix)"
   ]
  },
  {
   "cell_type": "code",
   "execution_count": 6,
   "metadata": {},
   "outputs": [],
   "source": [
    "view(slab_OH)"
   ]
  },
  {
   "cell_type": "code",
   "execution_count": 33,
   "metadata": {},
   "outputs": [],
   "source": [
    "# LaMnO3_62\n",
    "\n",
    "LaMnO3 = read('Cubic_perovskites.xyz')\n",
    "slab_62 = LaMnO3.repeat([2,2,4])\n",
    "#slab_62.append('O')\n",
    "#slab_62.append('H')\n",
    "df = pd.read_excel('QE_out.xlsx',sheet_name='62',header=None)\n",
    "#slab_OOH.set_positions(slab_p) \n",
    "df_d = df.drop([0],axis=1)\n",
    "df_matrix = df_d.values\n",
    "slab_62.set_positions(df_matrix)"
   ]
  },
  {
   "cell_type": "code",
   "execution_count": 32,
   "metadata": {},
   "outputs": [],
   "source": [
    "view(slab_62)"
   ]
  },
  {
   "cell_type": "code",
   "execution_count": 8,
   "metadata": {},
   "outputs": [],
   "source": [
    "# LaMnO3_62\n",
    "\n",
    "LaMnO3 = read('Cubic_perovskites.xyz')\n",
    "slab_62 = LaMnO3.repeat([2,2,4])\n",
    "slab_62.append('O')\n",
    "#slab_62.append('H')\n",
    "df = pd.read_excel('QE_out.xlsx',sheet_name='62_O',header=None)\n",
    "#slab_OOH.set_positions(slab_p) \n",
    "df_d = df.drop([0],axis=1)\n",
    "df_matrix = df_d.values\n",
    "slab_62.set_positions(df_matrix)"
   ]
  },
  {
   "cell_type": "code",
   "execution_count": 9,
   "metadata": {},
   "outputs": [],
   "source": [
    "view(slab_62)"
   ]
  },
  {
   "cell_type": "code",
   "execution_count": 15,
   "metadata": {},
   "outputs": [],
   "source": [
    "# Sub71\n",
    "LaMnO3 = read('Cubic_perovskites.xyz')\n",
    "sub71 = LaMnO3.repeat([2,2,4])\n",
    "#sub_71.append('O')\n",
    "#slab_62.append('H')\n",
    "df = pd.read_excel('QE_out.xlsx',sheet_name='71sub',header=None)\n",
    "#slab_OOH.set_positions(slab_p) \n",
    "df_d = df.drop([0],axis=1)\n",
    "df_matrix = df_d.values\n",
    "sub71.set_positions(df_matrix)\n"
   ]
  },
  {
   "cell_type": "code",
   "execution_count": 14,
   "metadata": {},
   "outputs": [],
   "source": [
    "view(sub71)"
   ]
  },
  {
   "cell_type": "code",
   "execution_count": 16,
   "metadata": {},
   "outputs": [],
   "source": [
    "# Sub71_2layer\n",
    "LaMnO3 = read('Cubic_perovskites.xyz')\n",
    "sub71_2 = LaMnO3.repeat([2,2,4])\n",
    "#sub_71.append('O')\n",
    "#slab_62.append('H')\n",
    "df = pd.read_excel('QE_out.xlsx',sheet_name='71sub_2layer',header=None)\n",
    "#slab_OOH.set_positions(slab_p) \n",
    "df_d = df.drop([0],axis=1)\n",
    "df_matrix = df_d.values\n",
    "sub71_2.set_positions(df_matrix)"
   ]
  },
  {
   "cell_type": "code",
   "execution_count": 17,
   "metadata": {},
   "outputs": [],
   "source": [
    "view(sub71_2.1)"
   ]
  },
  {
   "cell_type": "code",
   "execution_count": 20,
   "metadata": {},
   "outputs": [],
   "source": [
    "# Sub71_2layer\n",
    "LaMnO3 = read('Cubic_perovskites.xyz')\n",
    "sub71_2 = LaMnO3.repeat([2,2,4])\n",
    "#sub_71.append('O')\n",
    "#slab_62.append('H')\n",
    "df = pd.read_excel('QE_out.xlsx',sheet_name='71sub_2layer_2',header=None)\n",
    "#slab_OOH.set_positions(slab_p) \n",
    "df_d = df.drop([0],axis=1)\n",
    "df_matrix = df_d.values\n",
    "sub71_2.set_positions(df_matrix)"
   ]
  },
  {
   "cell_type": "code",
   "execution_count": 21,
   "metadata": {},
   "outputs": [],
   "source": [
    "view(sub71_2)"
   ]
  },
  {
   "cell_type": "code",
   "execution_count": 13,
   "metadata": {},
   "outputs": [],
   "source": [
    "#53view\n",
    "LaMnO3 = read('Cubic_perovskites.xyz')\n",
    "LMN53 = LaMnO3.repeat([2,2,4])\n",
    "#sub_71.append('O')\n",
    "#slab_62.append('H')\n",
    "df = pd.read_excel('book1.xlsx',sheet_name='Sheet10',header=None)\n",
    "#slab_OOH.set_positions(slab_p) \n",
    "df_d = df.drop([0],axis=1)\n",
    "df_matrix = df_d.values\n",
    "LMN53.set_positions(df_matrix)"
   ]
  },
  {
   "cell_type": "code",
   "execution_count": 14,
   "metadata": {},
   "outputs": [],
   "source": [
    "view(LMN53)"
   ]
  },
  {
   "cell_type": "code",
   "execution_count": 3,
   "metadata": {},
   "outputs": [],
   "source": [
    "#sub71view\n",
    "LaMnO3 = read('Cubic_perovskites.xyz')\n",
    "LMN71 = LaMnO3.repeat([2,2,4])\n",
    "#LMN71.append('O')\n",
    "#LMN71.append('H')\n",
    "df = pd.read_excel('book1.xlsx',sheet_name='Sheet14',header=None)\n",
    "#slab_OOH.set_positions(slab_p) \n",
    "df_d = df.drop([0],axis=1)\n",
    "df_matrix = df_d.values\n",
    "LMN71.set_positions(df_matrix)"
   ]
  },
  {
   "cell_type": "code",
   "execution_count": 5,
   "metadata": {},
   "outputs": [],
   "source": [
    "view(LMN71)"
   ]
  },
  {
   "cell_type": "code",
   "execution_count": 5,
   "metadata": {},
   "outputs": [],
   "source": [
    "#sub71view\n",
    "LaMnO3 = read('Cubic_perovskites.xyz')\n",
    "LMN35 = LaMnO3.repeat([2,2,4])\n",
    "#LMN71.append('O')\n",
    "#LMN71.append('H')\n",
    "df = pd.read_excel('book1.xlsx',sheet_name='Sheet15',header=None)\n",
    "#slab_OOH.set_positions(slab_p) \n",
    "df_d = df.drop([0],axis=1)\n",
    "df_matrix = df_d.values\n",
    "LMN35.set_positions(df_matrix)"
   ]
  },
  {
   "cell_type": "code",
   "execution_count": 6,
   "metadata": {},
   "outputs": [],
   "source": [
    "view(LMN35)"
   ]
  },
  {
   "cell_type": "code",
   "execution_count": 3,
   "metadata": {},
   "outputs": [],
   "source": [
    "#sub71view\n",
    "LaMnO3 = read('Cubic_perovskites.xyz')\n",
    "sub71 = LaMnO3.repeat([2,2,4])\n",
    "sub71.append('O')\n",
    "#LMN71.append('H')\n",
    "df = pd.read_excel('book1.xlsx',sheet_name='Sheet17',header=None)\n",
    "#slab_OOH.set_positions(slab_p) \n",
    "df_d = df.drop([0],axis=1)\n",
    "df_matrix = df_d.values\n",
    "sub71.set_positions(df_matrix)"
   ]
  },
  {
   "cell_type": "code",
   "execution_count": 10,
   "metadata": {},
   "outputs": [],
   "source": [
    "#LaNiview\n",
    "LaMnO3 = read('Cubic_perovskites.xyz')\n",
    "LMN = LaMnO3.repeat([2,2,4])\n",
    "#LaNi.append('O')\n",
    "#LMN.append('O')\n",
    "df = pd.read_excel('book1.xlsx',sheet_name='71vc_a2',header=None)\n",
    "#slab_OOH.set_positions(slab_p) \n",
    "df_d = df.drop([0],axis=1)\n",
    "df_matrix = df_d.values\n",
    "LMN.set_positions(df_matrix)\n",
    "elt = LMN.get_chemical_symbols()\n",
    "elt[70]='Ni'\n",
    "LMN.set_chemical_symbols(elt)\n",
    "LMN.set_chemical_symbols(elt)\n",
    "view(LMN)\n"
   ]
  },
  {
   "cell_type": "code",
   "execution_count": 1,
   "metadata": {},
   "outputs": [
    {
     "name": "stdout",
     "output_type": "stream",
     "text": [
      "ACSF_sp.ipynb\r\n",
      "Book1.xlsx\r\n",
      "Book3.xlsx\r\n",
      "CubicUnitCell.xyz\r\n",
      "LMN44_O_t.xlsx\r\n",
      "LMN53_O_t.xlsx\r\n",
      "LMO_2\r\n",
      "LMO_b\r\n",
      "LMO_s\r\n",
      "LM_33.in\r\n",
      "LM_34.in\r\n",
      "LM_34_2.in\r\n",
      "La.rel-pz-spfn-rrkjus_psl.1.0.0.UPF.txt\r\n",
      "LaMnO2_CubicExample\r\n",
      "LaMnO2_CubicExample.xyz\r\n",
      "LaMnO3.in\r\n",
      "LaMnO3.xyz\r\n",
      "LaMnO3_4L.xyz\r\n",
      "LaMnO3_Cubic.in\r\n",
      "LaMnO3_Cubic_2.in\r\n",
      "LaMnO3_Cubic_cor.ipynb\r\n",
      "LaMnOH.xlsx\r\n",
      "LaMn_222.in\r\n",
      "LaMn_33.in\r\n",
      "LaMn_332.in\r\n",
      "LaMn_pure.ipynb\r\n",
      "LaNiO3\r\n",
      "LaNiO3.cif\r\n",
      "LaNiO3_computed.cif\r\n",
      "LaNiO3_tri.cif\r\n",
      "MNO3.cif\r\n",
      "Mn.rel-pz-spn-rrkjus_psl.0.3.1.UPF.txt\r\n",
      "New structure.vesta\r\n",
      "New_Cubic_perovskite.ipynb\r\n",
      "O.rel-pz-n-rrkjus_psl.0.1.UPF.txt\r\n",
      "O_training.xlsx\r\n",
      "Perovskite_CubicStructure.py\r\n",
      "Provisional Transcript.pdf\r\n",
      "QE_out.xlsx\r\n",
      "Untitled.ipynb\r\n",
      "Untitled1.ipynb\r\n",
      "Untitled10.ipynb\r\n",
      "Untitled11.ipynb\r\n",
      "Untitled12.ipynb\r\n",
      "Untitled13.ipynb\r\n",
      "Untitled14.ipynb\r\n",
      "Untitled15.ipynb\r\n",
      "Untitled2.ipynb\r\n",
      "Untitled3.ipynb\r\n",
      "Untitled4.ipynb\r\n",
      "Untitled5.ipynb\r\n",
      "Untitled6.ipynb\r\n",
      "Untitled7.ipynb\r\n",
      "Untitled8.ipynb\r\n",
      "Untitled9.ipynb\r\n",
      "avg.xlsx\r\n",
      "cubic_perovskites.xyz\r\n",
      "output_chart.xlsx\r\n",
      "perovskite.py\r\n",
      "qe_output_view.ipynb\r\n",
      "slab.in\r\n",
      "slab_L1.in\r\n",
      "slab_L3.in\r\n",
      "slab_LaNiO3\r\n",
      "structure_o.xlsx\r\n",
      "test.in\r\n",
      "test_slab.xyz\r\n",
      "untitled\r\n",
      "untitled1\r\n",
      "untitled1.py\r\n",
      "~$Book1.xlsx\r\n",
      "~$LMN44_O_t.xlsx\r\n",
      "~$LMN53_O_t.xlsx\r\n",
      "~$QE_out.xlsx\r\n"
     ]
    }
   ],
   "source": []
  },
  {
   "cell_type": "code",
   "execution_count": null,
   "metadata": {},
   "outputs": [],
   "source": []
  }
 ],
 "metadata": {
  "kernelspec": {
   "display_name": "Python 3",
   "language": "python",
   "name": "python3"
  },
  "language_info": {
   "codemirror_mode": {
    "name": "ipython",
    "version": 3
   },
   "file_extension": ".py",
   "mimetype": "text/x-python",
   "name": "python",
   "nbconvert_exporter": "python",
   "pygments_lexer": "ipython3",
   "version": "3.7.3"
  }
 },
 "nbformat": 4,
 "nbformat_minor": 2
}
